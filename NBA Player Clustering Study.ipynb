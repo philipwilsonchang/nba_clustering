{
 "cells": [
  {
   "cell_type": "markdown",
   "metadata": {},
   "source": [
    "# NBA Player Clustering Study\n",
    "\n",
    "This study aims to determine statistically appropriate 'positions' or 'categories' of NBA players. NBA players are traditionally defined in 5 general categories: point guard, shooting guard, small forward, power forward, and center. However, the majority of NBA players are considered a blend of multiple positions (SG/SF, PF/C, PG/SG, etc.) and some coaches even simplify player categories into three broader categories: guard, wing, and big. This study will determine if there are statistically defined player categories via clustering.\n",
    "\n",
    "If possible, this study will also attempt to determine which lineup combinations of player categories are most effective against other lineup categories.\n",
    "\n",
    "\n",
    "Additional Notes:\n",
    "- This data was obtained from Kaggle (https://www.kaggle.com/drgilermo/nba-players-stats/version/2), which was scraped from Basketball-Reference.com\n",
    "\n",
    "Package Dependencies:\n",
    "- Python 3.7.2\n",
    "- Numpy 1.16.2\n",
    "- Pandas 0.24.1\n",
    "- SciKit-Learn 0.20.3\n",
    "- Matplotlib 3.0.3\n",
    "- Seaborn 0.9.0"
   ]
  },
  {
   "cell_type": "code",
   "execution_count": 1,
   "metadata": {},
   "outputs": [],
   "source": [
    "import warnings\n",
    "\n",
    "import numpy as np\n",
    "import pandas as pd\n",
    "import matplotlib.pyplot as plt\n",
    "import seaborn as sns\n",
    "\n",
    "from sklearn.preprocessing import StandardScaler\n",
    "from sklearn.cluster import KMeans, AgglomerativeClustering, AffinityPropagation\n",
    "from sklearn.mixture import GaussianMixture\n",
    "\n",
    "import os\n",
    "import sys"
   ]
  },
  {
   "cell_type": "code",
   "execution_count": 2,
   "metadata": {},
   "outputs": [
    {
     "name": "stdout",
     "output_type": "stream",
     "text": [
      "Hello world\n"
     ]
    }
   ],
   "source": [
    "print(\"Hello world\")"
   ]
  },
  {
   "cell_type": "code",
   "execution_count": null,
   "metadata": {},
   "outputs": [],
   "source": []
  }
 ],
 "metadata": {
  "kernelspec": {
   "display_name": "Python 3",
   "language": "python",
   "name": "python3"
  },
  "language_info": {
   "codemirror_mode": {
    "name": "ipython",
    "version": 3
   },
   "file_extension": ".py",
   "mimetype": "text/x-python",
   "name": "python",
   "nbconvert_exporter": "python",
   "pygments_lexer": "ipython3",
   "version": "3.7.2"
  }
 },
 "nbformat": 4,
 "nbformat_minor": 2
}
